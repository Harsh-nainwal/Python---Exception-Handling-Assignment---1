{
 "cells": [
  {
   "cell_type": "markdown",
   "id": "1a3768d6-891f-4b2c-a742-981601a5a4ff",
   "metadata": {},
   "source": [
    "Q1. What is an Exception in python? Write the difference between Exceptions and syntax errors."
   ]
  },
  {
   "cell_type": "markdown",
   "id": "9517bdd4-6fc3-4ceb-8d4f-3c098cf3faeb",
   "metadata": {},
   "source": [
    "Ans - An exception in Python is an event that occurs during the execution of a program, which disrupts the normal flow of the program's instructions. When an exceptional situation arises, such as an error or an unexpected condition, Python raises an exception.\n",
    "\n",
    "Q2. What happens when an exception is not handled? Explain with an example.\n",
    "\n",
    "Ans - When an exception is not handled in Python, it leads to the termination of the program and the generation of an error message."
   ]
  },
  {
   "cell_type": "code",
   "execution_count": 2,
   "id": "a7e54f3b-0365-40c3-9457-e58bc7b4fbb8",
   "metadata": {},
   "outputs": [
    {
     "ename": "ZeroDivisionError",
     "evalue": "division by zero",
     "output_type": "error",
     "traceback": [
      "\u001b[0;31m---------------------------------------------------------------------------\u001b[0m",
      "\u001b[0;31mZeroDivisionError\u001b[0m                         Traceback (most recent call last)",
      "Cell \u001b[0;32mIn[2], line 7\u001b[0m\n\u001b[1;32m      4\u001b[0m num1 \u001b[38;5;241m=\u001b[39m \u001b[38;5;241m10\u001b[39m\n\u001b[1;32m      5\u001b[0m num2 \u001b[38;5;241m=\u001b[39m \u001b[38;5;241m0\u001b[39m\n\u001b[0;32m----> 7\u001b[0m result \u001b[38;5;241m=\u001b[39m \u001b[43mdivide\u001b[49m\u001b[43m(\u001b[49m\u001b[43mnum1\u001b[49m\u001b[43m,\u001b[49m\u001b[43m \u001b[49m\u001b[43mnum2\u001b[49m\u001b[43m)\u001b[49m\n\u001b[1;32m      8\u001b[0m \u001b[38;5;28mprint\u001b[39m(result)\n",
      "Cell \u001b[0;32mIn[2], line 2\u001b[0m, in \u001b[0;36mdivide\u001b[0;34m(a, b)\u001b[0m\n\u001b[1;32m      1\u001b[0m \u001b[38;5;28;01mdef\u001b[39;00m \u001b[38;5;21mdivide\u001b[39m(a, b):\n\u001b[0;32m----> 2\u001b[0m     \u001b[38;5;28;01mreturn\u001b[39;00m \u001b[43ma\u001b[49m\u001b[43m \u001b[49m\u001b[38;5;241;43m/\u001b[39;49m\u001b[43m \u001b[49m\u001b[43mb\u001b[49m\n",
      "\u001b[0;31mZeroDivisionError\u001b[0m: division by zero"
     ]
    }
   ],
   "source": [
    "def divide(a, b):\n",
    "    return a / b\n",
    "\n",
    "num1 = 10\n",
    "num2 = 0\n",
    "\n",
    "result = divide(num1, num2)\n",
    "print(result)"
   ]
  },
  {
   "cell_type": "markdown",
   "id": "c71cc84f-9fab-4fa4-bfa1-762fa9e3aaa7",
   "metadata": {},
   "source": [
    "Q3. Which python statements are used to catch and handle exceptions? Explain with an example.\n",
    "\n",
    "Ans - Try and except block in python are used to handle exceptions in python."
   ]
  },
  {
   "cell_type": "code",
   "execution_count": 3,
   "id": "afa114c7-a864-4e82-9273-c5cd432170bc",
   "metadata": {},
   "outputs": [
    {
     "name": "stdout",
     "output_type": "stream",
     "text": [
      "division by zero\n"
     ]
    }
   ],
   "source": [
    "try : \n",
    "    print(10/0)\n",
    "except ZeroDivisionError as e:\n",
    "    print(e)"
   ]
  },
  {
   "cell_type": "markdown",
   "id": "a0d3580b-5794-45b6-ae84-558e3947cf13",
   "metadata": {},
   "source": [
    "Q4. Explain with an example.\n",
    "\n",
    "\n",
    "(i) try and else : When there is no exception in the program then after the execution of try block the else block is executed. If there an exception occurs in the code, the else block will not be executed."
   ]
  },
  {
   "cell_type": "code",
   "execution_count": 5,
   "id": "628e0c87-0b35-4dff-bd91-68132c4ee49d",
   "metadata": {},
   "outputs": [
    {
     "name": "stdout",
     "output_type": "stream",
     "text": [
      "My name is Shashi Kant Sharma\n",
      "Hi\n",
      "Code executed\n"
     ]
    }
   ],
   "source": [
    "try :\n",
    "    print(\"My name is Shashi Kant Sharma\")\n",
    "    print(\"Hi\")\n",
    "except Exception as e:\n",
    "    print(e)\n",
    "else :\n",
    "    print(\"Code executed\")"
   ]
  },
  {
   "cell_type": "markdown",
   "id": "81acfb6f-3bb6-435e-8afb-bc7870531810",
   "metadata": {},
   "source": [
    "(ii) finally : This finally block will execute all the time whether the program has an exception or not."
   ]
  },
  {
   "cell_type": "code",
   "execution_count": 8,
   "id": "7a224e24-0cc3-49d3-b60c-41c98945e6d3",
   "metadata": {},
   "outputs": [
    {
     "name": "stdout",
     "output_type": "stream",
     "text": [
      "[Errno 2] No such file or directory: 'file.txt'\n",
      "File successfully closed!!\n"
     ]
    }
   ],
   "source": [
    "try : \n",
    "    with open(\"file.txt\",'r') as f:\n",
    "        f.read\n",
    "except FileNotFoundError as e:\n",
    "    print(e)\n",
    "finally:\n",
    "    print(\"File successfully closed!!\")"
   ]
  },
  {
   "cell_type": "markdown",
   "id": "c90f1053-0813-45b3-aafe-b717d4c62771",
   "metadata": {},
   "source": [
    "(iii) raise : When we want to make our own custom exceptions, this raise keyword is used."
   ]
  },
  {
   "cell_type": "code",
   "execution_count": 11,
   "id": "23d4b18f-07ca-4021-90f6-1a095e17c12f",
   "metadata": {},
   "outputs": [
    {
     "name": "stdin",
     "output_type": "stream",
     "text": [
      "Enter your age:  768\n"
     ]
    },
    {
     "name": "stdout",
     "output_type": "stream",
     "text": [
      "Invalid age: Too much age !!\n"
     ]
    }
   ],
   "source": [
    "def validate_age(age):\n",
    "    if age < 0:\n",
    "        raise ValueError(\"Age cannot be negative.\")\n",
    "    elif age < 18:\n",
    "        raise ValueError(\"Age must be at least 18 to access this content.\")\n",
    "    elif age > 200:\n",
    "        raise ValueError(\"Too much age !!\")\n",
    "    else:\n",
    "        print(\"Access granted.\")\n",
    "\n",
    "try:\n",
    "    user_age = int(input(\"Enter your age: \"))\n",
    "    validate_age(user_age)\n",
    "except ValueError as v:\n",
    "    print(\"Invalid age:\", v)\n"
   ]
  },
  {
   "cell_type": "markdown",
   "id": "a3057c2c-8807-40ad-9ce2-01b2cc6f1e43",
   "metadata": {},
   "source": [
    "Q5. What are the custom exceptions in python? Why do we need custom exceptions? Explain with an example.\n",
    "\n",
    "Ans - Custom exceptions are user-defined exceptions that extend the built-in exception classes. By creating custom exceptions, programmers can define their own exceptional conditions and raise specific exceptions to handle those conditions in a more organized and meaningful way.\n",
    "\n",
    "\n",
    "By creating custom exceptions, we can provide more specific information about the exceptional condition that occurred. This allows for better error handling, customized error messages, and the ability to differentiate between different types of exceptions.\n",
    "\n"
   ]
  },
  {
   "cell_type": "code",
   "execution_count": 12,
   "id": "89f33717-bae8-45aa-9fa6-099d455d588a",
   "metadata": {},
   "outputs": [
    {
     "name": "stdout",
     "output_type": "stream",
     "text": [
      "Error: Insufficient funds. Available balance: 1000, requested amount: 1500\n"
     ]
    }
   ],
   "source": [
    "class InsufficientFundsError(Exception):\n",
    "    def __init__(self, balance, amount):\n",
    "        self.balance = balance\n",
    "        self.amount = amount\n",
    "        self.message = f\"Insufficient funds. Available balance: {balance}, requested amount: {amount}\"\n",
    "        super().__init__(self.message)\n",
    "\n",
    "    def __str__(self):\n",
    "        return self.message\n",
    "\n",
    "\n",
    "def withdraw(balance, amount):\n",
    "    if amount > balance:\n",
    "        raise InsufficientFundsError(balance, amount)\n",
    "    else:\n",
    "        print(\"Withdrawal successful.\")\n",
    "\n",
    "\n",
    "try:\n",
    "    account_balance = 1000\n",
    "    withdrawal_amount = 1500\n",
    "    withdraw(account_balance, withdrawal_amount)\n",
    "except InsufficientFundsError as ife:\n",
    "    print(\"Error:\", ife)\n"
   ]
  },
  {
   "cell_type": "markdown",
   "id": "5c0778a5-39c2-4888-98c0-64101a145232",
   "metadata": {},
   "source": [
    "Q6. Create a custom exception class. Use this class to handle an exception."
   ]
  },
  {
   "cell_type": "code",
   "execution_count": 13,
   "id": "b4895318-d52b-4b2b-98f4-c95e3983cd05",
   "metadata": {},
   "outputs": [
    {
     "name": "stdout",
     "output_type": "stream",
     "text": [
      "Error: Cannot divide by zero.\n"
     ]
    }
   ],
   "source": [
    "class MyCustomException(Exception):\n",
    "    def __init__(self, message):\n",
    "        self.message = message\n",
    "        super().__init__(self.message)\n",
    "\n",
    "\n",
    "def divide_numbers(a, b):\n",
    "    if b == 0:\n",
    "        raise MyCustomException(\"Cannot divide by zero.\")\n",
    "    else:\n",
    "        return a / b\n",
    "\n",
    "\n",
    "try:\n",
    "    num1 = 10\n",
    "    num2 = 0\n",
    "    result = divide_numbers(num1, num2)\n",
    "    print(\"Result:\", result)\n",
    "except MyCustomException as ex:\n",
    "    print(\"Error:\", ex)\n"
   ]
  },
  {
   "cell_type": "code",
   "execution_count": null,
   "id": "add512b0-d5fb-4479-aa92-8d5b476102ba",
   "metadata": {},
   "outputs": [],
   "source": []
  }
 ],
 "metadata": {
  "kernelspec": {
   "display_name": "Python 3 (ipykernel)",
   "language": "python",
   "name": "python3"
  },
  "language_info": {
   "codemirror_mode": {
    "name": "ipython",
    "version": 3
   },
   "file_extension": ".py",
   "mimetype": "text/x-python",
   "name": "python",
   "nbconvert_exporter": "python",
   "pygments_lexer": "ipython3",
   "version": "3.10.8"
  }
 },
 "nbformat": 4,
 "nbformat_minor": 5
}
